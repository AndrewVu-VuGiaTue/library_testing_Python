{
 "cells": [
  {
   "cell_type": "code",
   "execution_count": 1,
   "metadata": {},
   "outputs": [],
   "source": [
    "# Declared libraries\n",
    "import gdbyvgt as gd\n",
    "import cfbyvgt as cf\n",
    "import numpy as np\n",
    "import pandas as pd\n",
    "import matplotlib as plt"
   ]
  },
  {
   "cell_type": "code",
   "execution_count": 2,
   "metadata": {},
   "outputs": [],
   "source": [
    "# Load dataset\n",
    "df = pd.read_csv(\"house_prices_dataset_cleaned.csv\")\n",
    "x_train = df[\"sqft (1000s)\"].values\n",
    "y_train = df[\"price (1000$)\"].values"
   ]
  },
  {
   "cell_type": "code",
   "execution_count": 4,
   "metadata": {},
   "outputs": [
    {
     "name": "stdout",
     "output_type": "stream",
     "text": [
      "w: 50\n",
      "b: 10\n"
     ]
    }
   ],
   "source": [
    "## use 'given' parameters (w, b), can change to new parameters for testing or sth else\n",
    "w = 50\n",
    "b = 10\n",
    "print(f\"w: {w}\")\n",
    "print(f\"b: {b}\")"
   ]
  },
  {
   "cell_type": "code",
   "execution_count": null,
   "metadata": {},
   "outputs": [
    {
     "name": "stdout",
     "output_type": "stream",
     "text": [
      "2020.92\n"
     ]
    }
   ],
   "source": [
    "# calculate the total cost\n",
    "cost_sum = cf.compute_cost(x_train, y_train, w, b)\n",
    "print(f\"{cost_sum:.2f}\")\n",
    "\n",
    "# the cost is ok"
   ]
  },
  {
   "cell_type": "code",
   "execution_count": 8,
   "metadata": {},
   "outputs": [],
   "source": [
    "# learning rate and iterations\n",
    "alpha = 1.0e-2\n",
    "iteration = 10000"
   ]
  },
  {
   "cell_type": "code",
   "execution_count": null,
   "metadata": {},
   "outputs": [
    {
     "name": "stdout",
     "output_type": "stream",
     "text": [
      "w:   1.1034, b:  61.7205\n"
     ]
    }
   ],
   "source": [
    "# run gradient descent\n",
    "w_final, b_final = gd.gradient_descent(x_train, y_train, w, b, alpha, iteration )\n",
    "print(f\"w: {w_final:8.4f}, b: {b_final:8.4f}\")\n",
    "\n",
    "# parameters are ok"
   ]
  },
  {
   "cell_type": "code",
   "execution_count": null,
   "metadata": {},
   "outputs": [
    {
     "name": "stdout",
     "output_type": "stream",
     "text": [
      "767.91\n"
     ]
    }
   ],
   "source": [
    "# calculate the total cost again\n",
    "cost_sum = cf.compute_cost(x_train, y_train, w_final, b_final)\n",
    "print(f\"{cost_sum:.2f}\")\n",
    "\n",
    "# the cost is ok (2nd check)"
   ]
  },
  {
   "cell_type": "code",
   "execution_count": null,
   "metadata": {},
   "outputs": [],
   "source": []
  }
 ],
 "metadata": {
  "kernelspec": {
   "display_name": "dev2",
   "language": "python",
   "name": "python3"
  },
  "language_info": {
   "codemirror_mode": {
    "name": "ipython",
    "version": 3
   },
   "file_extension": ".py",
   "mimetype": "text/x-python",
   "name": "python",
   "nbconvert_exporter": "python",
   "pygments_lexer": "ipython3",
   "version": "3.10.14"
  }
 },
 "nbformat": 4,
 "nbformat_minor": 2
}
